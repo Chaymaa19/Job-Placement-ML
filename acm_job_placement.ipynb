{
  "cells": [
    {
      "cell_type": "markdown",
      "id": "644d1959-9e40-45e6-8d3d-1ff3403415f3",
      "metadata": {
        "id": "644d1959-9e40-45e6-8d3d-1ff3403415f3"
      },
      "source": [
        "# Job Placement Dataset\n",
        "\n",
        "Due to the growing need of educated and talented individuals, especially in developing countries, recruiting fresh graduates is a routine practice for organizations. Conventional recruiting methods and selection processes can be prone to errors and in order to optimize the whole process, some innovative methods are needed."
      ]
    },
    {
      "cell_type": "code",
      "source": [
        "from google.colab import drive\n",
        "\n",
        "drive.mount('/content/drive')"
      ],
      "metadata": {
        "colab": {
          "base_uri": "https://localhost:8080/"
        },
        "id": "lrd4fjfyptn-",
        "outputId": "249b9b2e-cf30-4926-a252-0bc1b21fed13"
      },
      "id": "lrd4fjfyptn-",
      "execution_count": 2,
      "outputs": [
        {
          "output_type": "stream",
          "name": "stdout",
          "text": [
            "Mounted at /content/drive\n"
          ]
        }
      ]
    },
    {
      "cell_type": "code",
      "source": [
        "from os import sep\n",
        "import pandas as pd\n",
        "import seaborn as sns\n",
        "from matplotlib import pyplot as plt\n",
        "from sklearn.metrics import accuracy_score\n",
        "from sklearn.metrics import ConfusionMatrixDisplay\n",
        "from sklearn.model_selection import train_test_split\n",
        "from sklearn.linear_model import LogisticRegression\n",
        "from sklearn.neighbors import KNeighborsClassifier\n",
        "from sklearn.tree import DecisionTreeClassifier\n",
        "from sklearn.ensemble import IsolationForest, RandomForestClassifier\n",
        "from sklearn.naive_bayes import GaussianNB\n",
        "from xgboost import XGBClassifier\n",
        "from sklearn.model_selection import KFold, StratifiedKFold\n",
        "from sklearn.metrics import accuracy_score\n",
        "from numpy import mean\n",
        "from sklearn.model_selection import cross_validate, train_test_split"
      ],
      "metadata": {
        "id": "lifFmRFkqBcS"
      },
      "id": "lifFmRFkqBcS",
      "execution_count": 3,
      "outputs": []
    },
    {
      "cell_type": "code",
      "source": [
        "FOLDER = 'otro'\n",
        "PROJECT_NAME = 'acm women encourage'\n",
        "PROJECTS_ROUTE = 'drive' + sep + 'MyDrive' + sep + FOLDER\n",
        "START_PROJECT = PROJECTS_ROUTE + sep + PROJECT_NAME + sep\n",
        "PATH_DATA_RAW = 'data' + sep"
      ],
      "metadata": {
        "id": "kpRE3OMwpxgz"
      },
      "id": "kpRE3OMwpxgz",
      "execution_count": 4,
      "outputs": []
    },
    {
      "cell_type": "code",
      "source": [
        "%cd $START_PROJECT"
      ],
      "metadata": {
        "colab": {
          "base_uri": "https://localhost:8080/"
        },
        "id": "RYtVTehiqyKG",
        "outputId": "06c09070-b844-4a65-c7bf-2566c46c7d9b"
      },
      "id": "RYtVTehiqyKG",
      "execution_count": 5,
      "outputs": [
        {
          "output_type": "stream",
          "name": "stdout",
          "text": [
            "/content/drive/MyDrive/otro/acm women encourage\n"
          ]
        }
      ]
    },
    {
      "cell_type": "code",
      "source": [
        "job_placement_data_raw = pd.read_csv(PATH_DATA_RAW + 'Job_Placement_Data.csv')"
      ],
      "metadata": {
        "id": "SYLOSMsGrNSz"
      },
      "id": "SYLOSMsGrNSz",
      "execution_count": 6,
      "outputs": []
    },
    {
      "cell_type": "code",
      "source": [
        "job_placement_data_raw.head()"
      ],
      "metadata": {
        "colab": {
          "base_uri": "https://localhost:8080/",
          "height": 224
        },
        "id": "Z7cYAXE5s0Gi",
        "outputId": "3ad568fa-d8ad-449c-bead-20377d507e50"
      },
      "id": "Z7cYAXE5s0Gi",
      "execution_count": 7,
      "outputs": [
        {
          "output_type": "execute_result",
          "data": {
            "text/plain": [
              "  gender  ssc_percentage ssc_board  hsc_percentage hsc_board hsc_subject  \\\n",
              "0      M           67.00    Others           91.00    Others    Commerce   \n",
              "1      M           79.33   Central           78.33    Others     Science   \n",
              "2      M           65.00   Central           68.00   Central        Arts   \n",
              "3      M           56.00   Central           52.00   Central     Science   \n",
              "4      M           85.80   Central           73.60   Central    Commerce   \n",
              "\n",
              "   degree_percentage undergrad_degree work_experience  emp_test_percentage  \\\n",
              "0              58.00         Sci&Tech              No                 55.0   \n",
              "1              77.48         Sci&Tech             Yes                 86.5   \n",
              "2              64.00        Comm&Mgmt              No                 75.0   \n",
              "3              52.00         Sci&Tech              No                 66.0   \n",
              "4              73.30        Comm&Mgmt              No                 96.8   \n",
              "\n",
              "  specialisation  mba_percent      status  \n",
              "0         Mkt&HR        58.80      Placed  \n",
              "1        Mkt&Fin        66.28      Placed  \n",
              "2        Mkt&Fin        57.80      Placed  \n",
              "3         Mkt&HR        59.43  Not Placed  \n",
              "4        Mkt&Fin        55.50      Placed  "
            ],
            "text/html": [
              "\n",
              "  <div id=\"df-0ec0395f-7649-4eb7-bbcd-6b194ba4e870\" class=\"colab-df-container\">\n",
              "    <div>\n",
              "<style scoped>\n",
              "    .dataframe tbody tr th:only-of-type {\n",
              "        vertical-align: middle;\n",
              "    }\n",
              "\n",
              "    .dataframe tbody tr th {\n",
              "        vertical-align: top;\n",
              "    }\n",
              "\n",
              "    .dataframe thead th {\n",
              "        text-align: right;\n",
              "    }\n",
              "</style>\n",
              "<table border=\"1\" class=\"dataframe\">\n",
              "  <thead>\n",
              "    <tr style=\"text-align: right;\">\n",
              "      <th></th>\n",
              "      <th>gender</th>\n",
              "      <th>ssc_percentage</th>\n",
              "      <th>ssc_board</th>\n",
              "      <th>hsc_percentage</th>\n",
              "      <th>hsc_board</th>\n",
              "      <th>hsc_subject</th>\n",
              "      <th>degree_percentage</th>\n",
              "      <th>undergrad_degree</th>\n",
              "      <th>work_experience</th>\n",
              "      <th>emp_test_percentage</th>\n",
              "      <th>specialisation</th>\n",
              "      <th>mba_percent</th>\n",
              "      <th>status</th>\n",
              "    </tr>\n",
              "  </thead>\n",
              "  <tbody>\n",
              "    <tr>\n",
              "      <th>0</th>\n",
              "      <td>M</td>\n",
              "      <td>67.00</td>\n",
              "      <td>Others</td>\n",
              "      <td>91.00</td>\n",
              "      <td>Others</td>\n",
              "      <td>Commerce</td>\n",
              "      <td>58.00</td>\n",
              "      <td>Sci&amp;Tech</td>\n",
              "      <td>No</td>\n",
              "      <td>55.0</td>\n",
              "      <td>Mkt&amp;HR</td>\n",
              "      <td>58.80</td>\n",
              "      <td>Placed</td>\n",
              "    </tr>\n",
              "    <tr>\n",
              "      <th>1</th>\n",
              "      <td>M</td>\n",
              "      <td>79.33</td>\n",
              "      <td>Central</td>\n",
              "      <td>78.33</td>\n",
              "      <td>Others</td>\n",
              "      <td>Science</td>\n",
              "      <td>77.48</td>\n",
              "      <td>Sci&amp;Tech</td>\n",
              "      <td>Yes</td>\n",
              "      <td>86.5</td>\n",
              "      <td>Mkt&amp;Fin</td>\n",
              "      <td>66.28</td>\n",
              "      <td>Placed</td>\n",
              "    </tr>\n",
              "    <tr>\n",
              "      <th>2</th>\n",
              "      <td>M</td>\n",
              "      <td>65.00</td>\n",
              "      <td>Central</td>\n",
              "      <td>68.00</td>\n",
              "      <td>Central</td>\n",
              "      <td>Arts</td>\n",
              "      <td>64.00</td>\n",
              "      <td>Comm&amp;Mgmt</td>\n",
              "      <td>No</td>\n",
              "      <td>75.0</td>\n",
              "      <td>Mkt&amp;Fin</td>\n",
              "      <td>57.80</td>\n",
              "      <td>Placed</td>\n",
              "    </tr>\n",
              "    <tr>\n",
              "      <th>3</th>\n",
              "      <td>M</td>\n",
              "      <td>56.00</td>\n",
              "      <td>Central</td>\n",
              "      <td>52.00</td>\n",
              "      <td>Central</td>\n",
              "      <td>Science</td>\n",
              "      <td>52.00</td>\n",
              "      <td>Sci&amp;Tech</td>\n",
              "      <td>No</td>\n",
              "      <td>66.0</td>\n",
              "      <td>Mkt&amp;HR</td>\n",
              "      <td>59.43</td>\n",
              "      <td>Not Placed</td>\n",
              "    </tr>\n",
              "    <tr>\n",
              "      <th>4</th>\n",
              "      <td>M</td>\n",
              "      <td>85.80</td>\n",
              "      <td>Central</td>\n",
              "      <td>73.60</td>\n",
              "      <td>Central</td>\n",
              "      <td>Commerce</td>\n",
              "      <td>73.30</td>\n",
              "      <td>Comm&amp;Mgmt</td>\n",
              "      <td>No</td>\n",
              "      <td>96.8</td>\n",
              "      <td>Mkt&amp;Fin</td>\n",
              "      <td>55.50</td>\n",
              "      <td>Placed</td>\n",
              "    </tr>\n",
              "  </tbody>\n",
              "</table>\n",
              "</div>\n",
              "    <div class=\"colab-df-buttons\">\n",
              "\n",
              "  <div class=\"colab-df-container\">\n",
              "    <button class=\"colab-df-convert\" onclick=\"convertToInteractive('df-0ec0395f-7649-4eb7-bbcd-6b194ba4e870')\"\n",
              "            title=\"Convert this dataframe to an interactive table.\"\n",
              "            style=\"display:none;\">\n",
              "\n",
              "  <svg xmlns=\"http://www.w3.org/2000/svg\" height=\"24px\" viewBox=\"0 -960 960 960\">\n",
              "    <path d=\"M120-120v-720h720v720H120Zm60-500h600v-160H180v160Zm220 220h160v-160H400v160Zm0 220h160v-160H400v160ZM180-400h160v-160H180v160Zm440 0h160v-160H620v160ZM180-180h160v-160H180v160Zm440 0h160v-160H620v160Z\"/>\n",
              "  </svg>\n",
              "    </button>\n",
              "\n",
              "  <style>\n",
              "    .colab-df-container {\n",
              "      display:flex;\n",
              "      gap: 12px;\n",
              "    }\n",
              "\n",
              "    .colab-df-convert {\n",
              "      background-color: #E8F0FE;\n",
              "      border: none;\n",
              "      border-radius: 50%;\n",
              "      cursor: pointer;\n",
              "      display: none;\n",
              "      fill: #1967D2;\n",
              "      height: 32px;\n",
              "      padding: 0 0 0 0;\n",
              "      width: 32px;\n",
              "    }\n",
              "\n",
              "    .colab-df-convert:hover {\n",
              "      background-color: #E2EBFA;\n",
              "      box-shadow: 0px 1px 2px rgba(60, 64, 67, 0.3), 0px 1px 3px 1px rgba(60, 64, 67, 0.15);\n",
              "      fill: #174EA6;\n",
              "    }\n",
              "\n",
              "    .colab-df-buttons div {\n",
              "      margin-bottom: 4px;\n",
              "    }\n",
              "\n",
              "    [theme=dark] .colab-df-convert {\n",
              "      background-color: #3B4455;\n",
              "      fill: #D2E3FC;\n",
              "    }\n",
              "\n",
              "    [theme=dark] .colab-df-convert:hover {\n",
              "      background-color: #434B5C;\n",
              "      box-shadow: 0px 1px 3px 1px rgba(0, 0, 0, 0.15);\n",
              "      filter: drop-shadow(0px 1px 2px rgba(0, 0, 0, 0.3));\n",
              "      fill: #FFFFFF;\n",
              "    }\n",
              "  </style>\n",
              "\n",
              "    <script>\n",
              "      const buttonEl =\n",
              "        document.querySelector('#df-0ec0395f-7649-4eb7-bbcd-6b194ba4e870 button.colab-df-convert');\n",
              "      buttonEl.style.display =\n",
              "        google.colab.kernel.accessAllowed ? 'block' : 'none';\n",
              "\n",
              "      async function convertToInteractive(key) {\n",
              "        const element = document.querySelector('#df-0ec0395f-7649-4eb7-bbcd-6b194ba4e870');\n",
              "        const dataTable =\n",
              "          await google.colab.kernel.invokeFunction('convertToInteractive',\n",
              "                                                    [key], {});\n",
              "        if (!dataTable) return;\n",
              "\n",
              "        const docLinkHtml = 'Like what you see? Visit the ' +\n",
              "          '<a target=\"_blank\" href=https://colab.research.google.com/notebooks/data_table.ipynb>data table notebook</a>'\n",
              "          + ' to learn more about interactive tables.';\n",
              "        element.innerHTML = '';\n",
              "        dataTable['output_type'] = 'display_data';\n",
              "        await google.colab.output.renderOutput(dataTable, element);\n",
              "        const docLink = document.createElement('div');\n",
              "        docLink.innerHTML = docLinkHtml;\n",
              "        element.appendChild(docLink);\n",
              "      }\n",
              "    </script>\n",
              "  </div>\n",
              "\n",
              "\n",
              "<div id=\"df-e60b995d-a5a7-4392-aedc-c05f8c34ddb6\">\n",
              "  <button class=\"colab-df-quickchart\" onclick=\"quickchart('df-e60b995d-a5a7-4392-aedc-c05f8c34ddb6')\"\n",
              "            title=\"Suggest charts\"\n",
              "            style=\"display:none;\">\n",
              "\n",
              "<svg xmlns=\"http://www.w3.org/2000/svg\" height=\"24px\"viewBox=\"0 0 24 24\"\n",
              "     width=\"24px\">\n",
              "    <g>\n",
              "        <path d=\"M19 3H5c-1.1 0-2 .9-2 2v14c0 1.1.9 2 2 2h14c1.1 0 2-.9 2-2V5c0-1.1-.9-2-2-2zM9 17H7v-7h2v7zm4 0h-2V7h2v10zm4 0h-2v-4h2v4z\"/>\n",
              "    </g>\n",
              "</svg>\n",
              "  </button>\n",
              "\n",
              "<style>\n",
              "  .colab-df-quickchart {\n",
              "      --bg-color: #E8F0FE;\n",
              "      --fill-color: #1967D2;\n",
              "      --hover-bg-color: #E2EBFA;\n",
              "      --hover-fill-color: #174EA6;\n",
              "      --disabled-fill-color: #AAA;\n",
              "      --disabled-bg-color: #DDD;\n",
              "  }\n",
              "\n",
              "  [theme=dark] .colab-df-quickchart {\n",
              "      --bg-color: #3B4455;\n",
              "      --fill-color: #D2E3FC;\n",
              "      --hover-bg-color: #434B5C;\n",
              "      --hover-fill-color: #FFFFFF;\n",
              "      --disabled-bg-color: #3B4455;\n",
              "      --disabled-fill-color: #666;\n",
              "  }\n",
              "\n",
              "  .colab-df-quickchart {\n",
              "    background-color: var(--bg-color);\n",
              "    border: none;\n",
              "    border-radius: 50%;\n",
              "    cursor: pointer;\n",
              "    display: none;\n",
              "    fill: var(--fill-color);\n",
              "    height: 32px;\n",
              "    padding: 0;\n",
              "    width: 32px;\n",
              "  }\n",
              "\n",
              "  .colab-df-quickchart:hover {\n",
              "    background-color: var(--hover-bg-color);\n",
              "    box-shadow: 0 1px 2px rgba(60, 64, 67, 0.3), 0 1px 3px 1px rgba(60, 64, 67, 0.15);\n",
              "    fill: var(--button-hover-fill-color);\n",
              "  }\n",
              "\n",
              "  .colab-df-quickchart-complete:disabled,\n",
              "  .colab-df-quickchart-complete:disabled:hover {\n",
              "    background-color: var(--disabled-bg-color);\n",
              "    fill: var(--disabled-fill-color);\n",
              "    box-shadow: none;\n",
              "  }\n",
              "\n",
              "  .colab-df-spinner {\n",
              "    border: 2px solid var(--fill-color);\n",
              "    border-color: transparent;\n",
              "    border-bottom-color: var(--fill-color);\n",
              "    animation:\n",
              "      spin 1s steps(1) infinite;\n",
              "  }\n",
              "\n",
              "  @keyframes spin {\n",
              "    0% {\n",
              "      border-color: transparent;\n",
              "      border-bottom-color: var(--fill-color);\n",
              "      border-left-color: var(--fill-color);\n",
              "    }\n",
              "    20% {\n",
              "      border-color: transparent;\n",
              "      border-left-color: var(--fill-color);\n",
              "      border-top-color: var(--fill-color);\n",
              "    }\n",
              "    30% {\n",
              "      border-color: transparent;\n",
              "      border-left-color: var(--fill-color);\n",
              "      border-top-color: var(--fill-color);\n",
              "      border-right-color: var(--fill-color);\n",
              "    }\n",
              "    40% {\n",
              "      border-color: transparent;\n",
              "      border-right-color: var(--fill-color);\n",
              "      border-top-color: var(--fill-color);\n",
              "    }\n",
              "    60% {\n",
              "      border-color: transparent;\n",
              "      border-right-color: var(--fill-color);\n",
              "    }\n",
              "    80% {\n",
              "      border-color: transparent;\n",
              "      border-right-color: var(--fill-color);\n",
              "      border-bottom-color: var(--fill-color);\n",
              "    }\n",
              "    90% {\n",
              "      border-color: transparent;\n",
              "      border-bottom-color: var(--fill-color);\n",
              "    }\n",
              "  }\n",
              "</style>\n",
              "\n",
              "  <script>\n",
              "    async function quickchart(key) {\n",
              "      const quickchartButtonEl =\n",
              "        document.querySelector('#' + key + ' button');\n",
              "      quickchartButtonEl.disabled = true;  // To prevent multiple clicks.\n",
              "      quickchartButtonEl.classList.add('colab-df-spinner');\n",
              "      try {\n",
              "        const charts = await google.colab.kernel.invokeFunction(\n",
              "            'suggestCharts', [key], {});\n",
              "      } catch (error) {\n",
              "        console.error('Error during call to suggestCharts:', error);\n",
              "      }\n",
              "      quickchartButtonEl.classList.remove('colab-df-spinner');\n",
              "      quickchartButtonEl.classList.add('colab-df-quickchart-complete');\n",
              "    }\n",
              "    (() => {\n",
              "      let quickchartButtonEl =\n",
              "        document.querySelector('#df-e60b995d-a5a7-4392-aedc-c05f8c34ddb6 button');\n",
              "      quickchartButtonEl.style.display =\n",
              "        google.colab.kernel.accessAllowed ? 'block' : 'none';\n",
              "    })();\n",
              "  </script>\n",
              "</div>\n",
              "    </div>\n",
              "  </div>\n"
            ],
            "application/vnd.google.colaboratory.intrinsic+json": {
              "type": "dataframe",
              "variable_name": "job_placement_data_raw",
              "summary": "{\n  \"name\": \"job_placement_data_raw\",\n  \"rows\": 215,\n  \"fields\": [\n    {\n      \"column\": \"gender\",\n      \"properties\": {\n        \"dtype\": \"category\",\n        \"num_unique_values\": 2,\n        \"samples\": [\n          \"F\",\n          \"M\"\n        ],\n        \"semantic_type\": \"\",\n        \"description\": \"\"\n      }\n    },\n    {\n      \"column\": \"ssc_percentage\",\n      \"properties\": {\n        \"dtype\": \"number\",\n        \"std\": 10.827205398231452,\n        \"min\": 40.89,\n        \"max\": 89.4,\n        \"num_unique_values\": 103,\n        \"samples\": [\n          74.0,\n          73.96\n        ],\n        \"semantic_type\": \"\",\n        \"description\": \"\"\n      }\n    },\n    {\n      \"column\": \"ssc_board\",\n      \"properties\": {\n        \"dtype\": \"category\",\n        \"num_unique_values\": 2,\n        \"samples\": [\n          \"Central\",\n          \"Others\"\n        ],\n        \"semantic_type\": \"\",\n        \"description\": \"\"\n      }\n    },\n    {\n      \"column\": \"hsc_percentage\",\n      \"properties\": {\n        \"dtype\": \"number\",\n        \"std\": 10.89750915750298,\n        \"min\": 37.0,\n        \"max\": 97.7,\n        \"num_unique_values\": 97,\n        \"samples\": [\n          82.0,\n          73.2\n        ],\n        \"semantic_type\": \"\",\n        \"description\": \"\"\n      }\n    },\n    {\n      \"column\": \"hsc_board\",\n      \"properties\": {\n        \"dtype\": \"category\",\n        \"num_unique_values\": 2,\n        \"samples\": [\n          \"Central\",\n          \"Others\"\n        ],\n        \"semantic_type\": \"\",\n        \"description\": \"\"\n      }\n    },\n    {\n      \"column\": \"hsc_subject\",\n      \"properties\": {\n        \"dtype\": \"category\",\n        \"num_unique_values\": 3,\n        \"samples\": [\n          \"Commerce\",\n          \"Science\"\n        ],\n        \"semantic_type\": \"\",\n        \"description\": \"\"\n      }\n    },\n    {\n      \"column\": \"degree_percentage\",\n      \"properties\": {\n        \"dtype\": \"number\",\n        \"std\": 7.35874328733944,\n        \"min\": 50.0,\n        \"max\": 91.0,\n        \"num_unique_values\": 89,\n        \"samples\": [\n          71.72,\n          76.0\n        ],\n        \"semantic_type\": \"\",\n        \"description\": \"\"\n      }\n    },\n    {\n      \"column\": \"undergrad_degree\",\n      \"properties\": {\n        \"dtype\": \"category\",\n        \"num_unique_values\": 3,\n        \"samples\": [\n          \"Sci&Tech\",\n          \"Comm&Mgmt\"\n        ],\n        \"semantic_type\": \"\",\n        \"description\": \"\"\n      }\n    },\n    {\n      \"column\": \"work_experience\",\n      \"properties\": {\n        \"dtype\": \"category\",\n        \"num_unique_values\": 2,\n        \"samples\": [\n          \"Yes\",\n          \"No\"\n        ],\n        \"semantic_type\": \"\",\n        \"description\": \"\"\n      }\n    },\n    {\n      \"column\": \"emp_test_percentage\",\n      \"properties\": {\n        \"dtype\": \"number\",\n        \"std\": 13.275956401653833,\n        \"min\": 50.0,\n        \"max\": 98.0,\n        \"num_unique_values\": 100,\n        \"samples\": [\n          93.4,\n          69.0\n        ],\n        \"semantic_type\": \"\",\n        \"description\": \"\"\n      }\n    },\n    {\n      \"column\": \"specialisation\",\n      \"properties\": {\n        \"dtype\": \"category\",\n        \"num_unique_values\": 2,\n        \"samples\": [\n          \"Mkt&Fin\",\n          \"Mkt&HR\"\n        ],\n        \"semantic_type\": \"\",\n        \"description\": \"\"\n      }\n    },\n    {\n      \"column\": \"mba_percent\",\n      \"properties\": {\n        \"dtype\": \"number\",\n        \"std\": 5.833384580683801,\n        \"min\": 51.21,\n        \"max\": 77.89,\n        \"num_unique_values\": 205,\n        \"samples\": [\n          64.66,\n          52.21\n        ],\n        \"semantic_type\": \"\",\n        \"description\": \"\"\n      }\n    },\n    {\n      \"column\": \"status\",\n      \"properties\": {\n        \"dtype\": \"category\",\n        \"num_unique_values\": 2,\n        \"samples\": [\n          \"Not Placed\",\n          \"Placed\"\n        ],\n        \"semantic_type\": \"\",\n        \"description\": \"\"\n      }\n    }\n  ]\n}"
            }
          },
          "metadata": {},
          "execution_count": 7
        }
      ]
    },
    {
      "cell_type": "code",
      "source": [
        "job_placement_data_raw.info()"
      ],
      "metadata": {
        "colab": {
          "base_uri": "https://localhost:8080/"
        },
        "id": "koRMaLsFrZJV",
        "outputId": "99a2e6bd-2e45-4302-9536-7be2334b053e"
      },
      "id": "koRMaLsFrZJV",
      "execution_count": 8,
      "outputs": [
        {
          "output_type": "stream",
          "name": "stdout",
          "text": [
            "<class 'pandas.core.frame.DataFrame'>\n",
            "RangeIndex: 215 entries, 0 to 214\n",
            "Data columns (total 13 columns):\n",
            " #   Column               Non-Null Count  Dtype  \n",
            "---  ------               --------------  -----  \n",
            " 0   gender               215 non-null    object \n",
            " 1   ssc_percentage       215 non-null    float64\n",
            " 2   ssc_board            215 non-null    object \n",
            " 3   hsc_percentage       215 non-null    float64\n",
            " 4   hsc_board            215 non-null    object \n",
            " 5   hsc_subject          215 non-null    object \n",
            " 6   degree_percentage    215 non-null    float64\n",
            " 7   undergrad_degree     215 non-null    object \n",
            " 8   work_experience      215 non-null    object \n",
            " 9   emp_test_percentage  215 non-null    float64\n",
            " 10  specialisation       215 non-null    object \n",
            " 11  mba_percent          215 non-null    float64\n",
            " 12  status               215 non-null    object \n",
            "dtypes: float64(5), object(8)\n",
            "memory usage: 22.0+ KB\n"
          ]
        }
      ]
    },
    {
      "cell_type": "markdown",
      "source": [
        "## DATA ANALYSIS"
      ],
      "metadata": {
        "id": "a2J8_tQmr6KU"
      },
      "id": "a2J8_tQmr6KU"
    },
    {
      "cell_type": "markdown",
      "source": [
        "First, let's review the female and male sample number and also the status with respect to each gender."
      ],
      "metadata": {
        "id": "YqQb1un3sC-W"
      },
      "id": "YqQb1un3sC-W"
    },
    {
      "source": [
        "# Number of male samples vs female\n",
        "job_placement_data_raw.groupby('gender').size().plot(kind='barh', color=sns.palettes.mpl_palette('Dark2'))\n",
        "plt.gca().spines[['top', 'right',]].set_visible(False)"
      ],
      "cell_type": "code",
      "execution_count": 9,
      "outputs": [
        {
          "output_type": "display_data",
          "data": {
            "text/plain": [
              "<Figure size 640x480 with 1 Axes>"
            ],
            "image/png": "[encoded data removed]"
          },
          "metadata": {}
        }
      ],
      "metadata": {
        "colab": {
          "base_uri": "https://localhost:8080/",
          "height": 430
        },
        "id": "VGWEYChbrjM1",
        "outputId": "ee9a3357-ae1f-4234-85c2-dcf5bbe288b9"
      },
      "id": "VGWEYChbrjM1"
    },
    {
      "cell_type": "code",
      "source": [
        "# Percentage of placed vs not placed for each gender\n",
        "placement_counts = job_placement_data_raw.groupby(['gender', 'status']).size().unstack()\n",
        "placement_percentage = placement_counts.div(placement_counts.sum(axis=1), axis=0) * 100\n",
        "\n",
        "# Plotting\n",
        "fig, axs = plt.subplots(1, 2, figsize=(12, 6))\n",
        "\n",
        "# Plot for male\n",
        "sns.barplot(x=placement_percentage.columns, y=placement_percentage.loc['M'], hue=placement_percentage.columns, ax=axs[0], palette='coolwarm', dodge=False)\n",
        "axs[0].set_title('Male Students')\n",
        "axs[0].set_ylabel('Percentage')\n",
        "axs[0].set_xlabel('Status')\n",
        "\n",
        "# Plot for female\n",
        "sns.barplot(x=placement_percentage.columns, y=placement_percentage.loc['F'], hue=placement_percentage.columns, ax=axs[1], palette='coolwarm', dodge=False)\n",
        "axs[1].set_title('Female Students')\n",
        "axs[1].set_ylabel('Percentage')\n",
        "axs[1].set_xlabel('Status')\n",
        "\n",
        "plt.tight_layout()\n",
        "plt.show()"
      ],
      "metadata": {
        "colab": {
          "base_uri": "https://localhost:8080/",
          "height": 607
        },
        "id": "Rvu7DXYasSD1",
        "outputId": "1aaa9953-16a9-46d3-a32a-64c3b5f87f27"
      },
      "id": "Rvu7DXYasSD1",
      "execution_count": 18,
      "outputs": [
        {
          "output_type": "display_data",
          "data": {
            "text/plain": [
              "<Figure size 1200x600 with 2 Axes>"
            ],
            "image/png": "[encoded data removed]"
          },
          "metadata": {}
        }
      ]
    },
    {
      "cell_type": "markdown",
      "source": [],
      "metadata": {
        "id": "uzB2oG826jQI"
      },
      "id": "uzB2oG826jQI"
    },
    {
      "cell_type": "markdown",
      "source": [
        "From the previous plots, we can see that:\n",
        "- The number of datapoints in the male populations is considerably higher than the number of datapoints in the female category, having the double of samples of males than females.\n",
        "- The ratio of placed/not placed is considerably more favorable for the male students than for females."
      ],
      "metadata": {
        "id": "tLPPiSzAvBsr"
      },
      "id": "tLPPiSzAvBsr"
    },
    {
      "cell_type": "markdown",
      "source": [
        "## DATA PREPARATION\n",
        "\n",
        "In this section we'll prepare the data so that the dataset can be ready for machine learning."
      ],
      "metadata": {
        "id": "9CWHfmXcvmoS"
      },
      "id": "9CWHfmXcvmoS"
    },
    {
      "cell_type": "code",
      "source": [
        "df1 = job_placement_data_raw.copy()"
      ],
      "metadata": {
        "id": "PvjP255pwCmL"
      },
      "id": "PvjP255pwCmL",
      "execution_count": 10,
      "outputs": []
    },
    {
      "cell_type": "code",
      "source": [
        "df1.head()"
      ],
      "metadata": {
        "colab": {
          "base_uri": "https://localhost:8080/",
          "height": 0
        },
        "id": "ZT6kvuNRwIF2",
        "outputId": "a9089f4d-511d-4866-d9d4-2002d8b3d5db"
      },
      "id": "ZT6kvuNRwIF2",
      "execution_count": 11,
      "outputs": [
        {
          "output_type": "execute_result",
          "data": {
            "text/plain": [
              "  gender  ssc_percentage ssc_board  hsc_percentage hsc_board hsc_subject  \\\n",
              "0      M           67.00    Others           91.00    Others    Commerce   \n",
              "1      M           79.33   Central           78.33    Others     Science   \n",
              "2      M           65.00   Central           68.00   Central        Arts   \n",
              "3      M           56.00   Central           52.00   Central     Science   \n",
              "4      M           85.80   Central           73.60   Central    Commerce   \n",
              "\n",
              "   degree_percentage undergrad_degree work_experience  emp_test_percentage  \\\n",
              "0              58.00         Sci&Tech              No                 55.0   \n",
              "1              77.48         Sci&Tech             Yes                 86.5   \n",
              "2              64.00        Comm&Mgmt              No                 75.0   \n",
              "3              52.00         Sci&Tech              No                 66.0   \n",
              "4              73.30        Comm&Mgmt              No                 96.8   \n",
              "\n",
              "  specialisation  mba_percent      status  \n",
              "0         Mkt&HR        58.80      Placed  \n",
              "1        Mkt&Fin        66.28      Placed  \n",
              "2        Mkt&Fin        57.80      Placed  \n",
              "3         Mkt&HR        59.43  Not Placed  \n",
              "4        Mkt&Fin        55.50      Placed  "
            ],
            "text/html": [
              "\n",
              "  <div id=\"df-0b8f81b0-1c30-4e2e-8a7a-2454667a496a\" class=\"colab-df-container\">\n",
              "    <div>\n",
              "<style scoped>\n",
              "    .dataframe tbody tr th:only-of-type {\n",
              "        vertical-align: middle;\n",
              "    }\n",
              "\n",
              "    .dataframe tbody tr th {\n",
              "        vertical-align: top;\n",
              "    }\n",
              "\n",
              "    .dataframe thead th {\n",
              "        text-align: right;\n",
              "    }\n",
              "</style>\n",
              "<table border=\"1\" class=\"dataframe\">\n",
              "  <thead>\n",
              "    <tr style=\"text-align: right;\">\n",
              "      <th></th>\n",
              "      <th>gender</th>\n",
              "      <th>ssc_percentage</th>\n",
              "      <th>ssc_board</th>\n",
              "      <th>hsc_percentage</th>\n",
              "      <th>hsc_board</th>\n",
              "      <th>hsc_subject</th>\n",
              "      <th>degree_percentage</th>\n",
              "      <th>undergrad_degree</th>\n",
              "      <th>work_experience</th>\n",
              "      <th>emp_test_percentage</th>\n",
              "      <th>specialisation</th>\n",
              "      <th>mba_percent</th>\n",
              "      <th>status</th>\n",
              "    </tr>\n",
              "  </thead>\n",
              "  <tbody>\n",
              "    <tr>\n",
              "      <th>0</th>\n",
              "      <td>M</td>\n",
              "      <td>67.00</td>\n",
              "      <td>Others</td>\n",
              "      <td>91.00</td>\n",
              "      <td>Others</td>\n",
              "      <td>Commerce</td>\n",
              "      <td>58.00</td>\n",
              "      <td>Sci&amp;Tech</td>\n",
              "      <td>No</td>\n",
              "      <td>55.0</td>\n",
              "      <td>Mkt&amp;HR</td>\n",
              "      <td>58.80</td>\n",
              "      <td>Placed</td>\n",
              "    </tr>\n",
              "    <tr>\n",
              "      <th>1</th>\n",
              "      <td>M</td>\n",
              "      <td>79.33</td>\n",
              "      <td>Central</td>\n",
              "      <td>78.33</td>\n",
              "      <td>Others</td>\n",
              "      <td>Science</td>\n",
              "      <td>77.48</td>\n",
              "      <td>Sci&amp;Tech</td>\n",
              "      <td>Yes</td>\n",
              "      <td>86.5</td>\n",
              "      <td>Mkt&amp;Fin</td>\n",
              "      <td>66.28</td>\n",
              "      <td>Placed</td>\n",
              "    </tr>\n",
              "    <tr>\n",
              "      <th>2</th>\n",
              "      <td>M</td>\n",
              "      <td>65.00</td>\n",
              "      <td>Central</td>\n",
              "      <td>68.00</td>\n",
              "      <td>Central</td>\n",
              "      <td>Arts</td>\n",
              "      <td>64.00</td>\n",
              "      <td>Comm&amp;Mgmt</td>\n",
              "      <td>No</td>\n",
              "      <td>75.0</td>\n",
              "      <td>Mkt&amp;Fin</td>\n",
              "      <td>57.80</td>\n",
              "      <td>Placed</td>\n",
              "    </tr>\n",
              "    <tr>\n",
              "      <th>3</th>\n",
              "      <td>M</td>\n",
              "      <td>56.00</td>\n",
              "      <td>Central</td>\n",
              "      <td>52.00</td>\n",
              "      <td>Central</td>\n",
              "      <td>Science</td>\n",
              "      <td>52.00</td>\n",
              "      <td>Sci&amp;Tech</td>\n",
              "      <td>No</td>\n",
              "      <td>66.0</td>\n",
              "      <td>Mkt&amp;HR</td>\n",
              "      <td>59.43</td>\n",
              "      <td>Not Placed</td>\n",
              "    </tr>\n",
              "    <tr>\n",
              "      <th>4</th>\n",
              "      <td>M</td>\n",
              "      <td>85.80</td>\n",
              "      <td>Central</td>\n",
              "      <td>73.60</td>\n",
              "      <td>Central</td>\n",
              "      <td>Commerce</td>\n",
              "      <td>73.30</td>\n",
              "      <td>Comm&amp;Mgmt</td>\n",
              "      <td>No</td>\n",
              "      <td>96.8</td>\n",
              "      <td>Mkt&amp;Fin</td>\n",
              "      <td>55.50</td>\n",
              "      <td>Placed</td>\n",
              "    </tr>\n",
              "  </tbody>\n",
              "</table>\n",
              "</div>\n",
              "    <div class=\"colab-df-buttons\">\n",
              "\n",
              "  <div class=\"colab-df-container\">\n",
              "    <button class=\"colab-df-convert\" onclick=\"convertToInteractive('df-0b8f81b0-1c30-4e2e-8a7a-2454667a496a')\"\n",
              "            title=\"Convert this dataframe to an interactive table.\"\n",
              "            style=\"display:none;\">\n",
              "\n",
              "  <svg xmlns=\"http://www.w3.org/2000/svg\" height=\"24px\" viewBox=\"0 -960 960 960\">\n",
              "    <path d=\"M120-120v-720h720v720H120Zm60-500h600v-160H180v160Zm220 220h160v-160H400v160Zm0 220h160v-160H400v160ZM180-400h160v-160H180v160Zm440 0h160v-160H620v160ZM180-180h160v-160H180v160Zm440 0h160v-160H620v160Z\"/>\n",
              "  </svg>\n",
              "    </button>\n",
              "\n",
              "  <style>\n",
              "    .colab-df-container {\n",
              "      display:flex;\n",
              "      gap: 12px;\n",
              "    }\n",
              "\n",
              "    .colab-df-convert {\n",
              "      background-color: #E8F0FE;\n",
              "      border: none;\n",
              "      border-radius: 50%;\n",
              "      cursor: pointer;\n",
              "      display: none;\n",
              "      fill: #1967D2;\n",
              "      height: 32px;\n",
              "      padding: 0 0 0 0;\n",
              "      width: 32px;\n",
              "    }\n",
              "\n",
              "    .colab-df-convert:hover {\n",
              "      background-color: #E2EBFA;\n",
              "      box-shadow: 0px 1px 2px rgba(60, 64, 67, 0.3), 0px 1px 3px 1px rgba(60, 64, 67, 0.15);\n",
              "      fill: #174EA6;\n",
              "    }\n",
              "\n",
              "    .colab-df-buttons div {\n",
              "      margin-bottom: 4px;\n",
              "    }\n",
              "\n",
              "    [theme=dark] .colab-df-convert {\n",
              "      background-color: #3B4455;\n",
              "      fill: #D2E3FC;\n",
              "    }\n",
              "\n",
              "    [theme=dark] .colab-df-convert:hover {\n",
              "      background-color: #434B5C;\n",
              "      box-shadow: 0px 1px 3px 1px rgba(0, 0, 0, 0.15);\n",
              "      filter: drop-shadow(0px 1px 2px rgba(0, 0, 0, 0.3));\n",
              "      fill: #FFFFFF;\n",
              "    }\n",
              "  </style>\n",
              "\n",
              "    <script>\n",
              "      const buttonEl =\n",
              "        document.querySelector('#df-0b8f81b0-1c30-4e2e-8a7a-2454667a496a button.colab-df-convert');\n",
              "      buttonEl.style.display =\n",
              "        google.colab.kernel.accessAllowed ? 'block' : 'none';\n",
              "\n",
              "      async function convertToInteractive(key) {\n",
              "        const element = document.querySelector('#df-0b8f81b0-1c30-4e2e-8a7a-2454667a496a');\n",
              "        const dataTable =\n",
              "          await google.colab.kernel.invokeFunction('convertToInteractive',\n",
              "                                                    [key], {});\n",
              "        if (!dataTable) return;\n",
              "\n",
              "        const docLinkHtml = 'Like what you see? Visit the ' +\n",
              "          '<a target=\"_blank\" href=https://colab.research.google.com/notebooks/data_table.ipynb>data table notebook</a>'\n",
              "          + ' to learn more about interactive tables.';\n",
              "        element.innerHTML = '';\n",
              "        dataTable['output_type'] = 'display_data';\n",
              "        await google.colab.output.renderOutput(dataTable, element);\n",
              "        const docLink = document.createElement('div');\n",
              "        docLink.innerHTML = docLinkHtml;\n",
              "        element.appendChild(docLink);\n",
              "      }\n",
              "    </script>\n",
              "  </div>\n",
              "\n",
              "\n",
              "<div id=\"df-90e8dce8-f373-4c5e-9529-e475d8c72e96\">\n",
              "  <button class=\"colab-df-quickchart\" onclick=\"quickchart('df-90e8dce8-f373-4c5e-9529-e475d8c72e96')\"\n",
              "            title=\"Suggest charts\"\n",
              "            style=\"display:none;\">\n",
              "\n",
              "<svg xmlns=\"http://www.w3.org/2000/svg\" height=\"24px\"viewBox=\"0 0 24 24\"\n",
              "     width=\"24px\">\n",
              "    <g>\n",
              "        <path d=\"M19 3H5c-1.1 0-2 .9-2 2v14c0 1.1.9 2 2 2h14c1.1 0 2-.9 2-2V5c0-1.1-.9-2-2-2zM9 17H7v-7h2v7zm4 0h-2V7h2v10zm4 0h-2v-4h2v4z\"/>\n",
              "    </g>\n",
              "</svg>\n",
              "  </button>\n",
              "\n",
              "<style>\n",
              "  .colab-df-quickchart {\n",
              "      --bg-color: #E8F0FE;\n",
              "      --fill-color: #1967D2;\n",
              "      --hover-bg-color: #E2EBFA;\n",
              "      --hover-fill-color: #174EA6;\n",
              "      --disabled-fill-color: #AAA;\n",
              "      --disabled-bg-color: #DDD;\n",
              "  }\n",
              "\n",
              "  [theme=dark] .colab-df-quickchart {\n",
              "      --bg-color: #3B4455;\n",
              "      --fill-color: #D2E3FC;\n",
              "      --hover-bg-color: #434B5C;\n",
              "      --hover-fill-color: #FFFFFF;\n",
              "      --disabled-bg-color: #3B4455;\n",
              "      --disabled-fill-color: #666;\n",
              "  }\n",
              "\n",
              "  .colab-df-quickchart {\n",
              "    background-color: var(--bg-color);\n",
              "    border: none;\n",
              "    border-radius: 50%;\n",
              "    cursor: pointer;\n",
              "    display: none;\n",
              "    fill: var(--fill-color);\n",
              "    height: 32px;\n",
              "    padding: 0;\n",
              "    width: 32px;\n",
              "  }\n",
              "\n",
              "  .colab-df-quickchart:hover {\n",
              "    background-color: var(--hover-bg-color);\n",
              "    box-shadow: 0 1px 2px rgba(60, 64, 67, 0.3), 0 1px 3px 1px rgba(60, 64, 67, 0.15);\n",
              "    fill: var(--button-hover-fill-color);\n",
              "  }\n",
              "\n",
              "  .colab-df-quickchart-complete:disabled,\n",
              "  .colab-df-quickchart-complete:disabled:hover {\n",
              "    background-color: var(--disabled-bg-color);\n",
              "    fill: var(--disabled-fill-color);\n",
              "    box-shadow: none;\n",
              "  }\n",
              "\n",
              "  .colab-df-spinner {\n",
              "    border: 2px solid var(--fill-color);\n",
              "    border-color: transparent;\n",
              "    border-bottom-color: var(--fill-color);\n",
              "    animation:\n",
              "      spin 1s steps(1) infinite;\n",
              "  }\n",
              "\n",
              "  @keyframes spin {\n",
              "    0% {\n",
              "      border-color: transparent;\n",
              "      border-bottom-color: var(--fill-color);\n",
              "      border-left-color: var(--fill-color);\n",
              "    }\n",
              "    20% {\n",
              "      border-color: transparent;\n",
              "      border-left-color: var(--fill-color);\n",
              "      border-top-color: var(--fill-color);\n",
              "    }\n",
              "    30% {\n",
              "      border-color: transparent;\n",
              "      border-left-color: var(--fill-color);\n",
              "      border-top-color: var(--fill-color);\n",
              "      border-right-color: var(--fill-color);\n",
              "    }\n",
              "    40% {\n",
              "      border-color: transparent;\n",
              "      border-right-color: var(--fill-color);\n",
              "      border-top-color: var(--fill-color);\n",
              "    }\n",
              "    60% {\n",
              "      border-color: transparent;\n",
              "      border-right-color: var(--fill-color);\n",
              "    }\n",
              "    80% {\n",
              "      border-color: transparent;\n",
              "      border-right-color: var(--fill-color);\n",
              "      border-bottom-color: var(--fill-color);\n",
              "    }\n",
              "    90% {\n",
              "      border-color: transparent;\n",
              "      border-bottom-color: var(--fill-color);\n",
              "    }\n",
              "  }\n",
              "</style>\n",
              "\n",
              "  <script>\n",
              "    async function quickchart(key) {\n",
              "      const quickchartButtonEl =\n",
              "        document.querySelector('#' + key + ' button');\n",
              "      quickchartButtonEl.disabled = true;  // To prevent multiple clicks.\n",
              "      quickchartButtonEl.classList.add('colab-df-spinner');\n",
              "      try {\n",
              "        const charts = await google.colab.kernel.invokeFunction(\n",
              "            'suggestCharts', [key], {});\n",
              "      } catch (error) {\n",
              "        console.error('Error during call to suggestCharts:', error);\n",
              "      }\n",
              "      quickchartButtonEl.classList.remove('colab-df-spinner');\n",
              "      quickchartButtonEl.classList.add('colab-df-quickchart-complete');\n",
              "    }\n",
              "    (() => {\n",
              "      let quickchartButtonEl =\n",
              "        document.querySelector('#df-90e8dce8-f373-4c5e-9529-e475d8c72e96 button');\n",
              "      quickchartButtonEl.style.display =\n",
              "        google.colab.kernel.accessAllowed ? 'block' : 'none';\n",
              "    })();\n",
              "  </script>\n",
              "</div>\n",
              "    </div>\n",
              "  </div>\n"
            ],
            "application/vnd.google.colaboratory.intrinsic+json": {
              "type": "dataframe",
              "variable_name": "df1",
              "summary": "{\n  \"name\": \"df1\",\n  \"rows\": 215,\n  \"fields\": [\n    {\n      \"column\": \"gender\",\n      \"properties\": {\n        \"dtype\": \"category\",\n        \"num_unique_values\": 2,\n        \"samples\": [\n          \"F\",\n          \"M\"\n        ],\n        \"semantic_type\": \"\",\n        \"description\": \"\"\n      }\n    },\n    {\n      \"column\": \"ssc_percentage\",\n      \"properties\": {\n        \"dtype\": \"number\",\n        \"std\": 10.827205398231452,\n        \"min\": 40.89,\n        \"max\": 89.4,\n        \"num_unique_values\": 103,\n        \"samples\": [\n          74.0,\n          73.96\n        ],\n        \"semantic_type\": \"\",\n        \"description\": \"\"\n      }\n    },\n    {\n      \"column\": \"ssc_board\",\n      \"properties\": {\n        \"dtype\": \"category\",\n        \"num_unique_values\": 2,\n        \"samples\": [\n          \"Central\",\n          \"Others\"\n        ],\n        \"semantic_type\": \"\",\n        \"description\": \"\"\n      }\n    },\n    {\n      \"column\": \"hsc_percentage\",\n      \"properties\": {\n        \"dtype\": \"number\",\n        \"std\": 10.89750915750298,\n        \"min\": 37.0,\n        \"max\": 97.7,\n        \"num_unique_values\": 97,\n        \"samples\": [\n          82.0,\n          73.2\n        ],\n        \"semantic_type\": \"\",\n        \"description\": \"\"\n      }\n    },\n    {\n      \"column\": \"hsc_board\",\n      \"properties\": {\n        \"dtype\": \"category\",\n        \"num_unique_values\": 2,\n        \"samples\": [\n          \"Central\",\n          \"Others\"\n        ],\n        \"semantic_type\": \"\",\n        \"description\": \"\"\n      }\n    },\n    {\n      \"column\": \"hsc_subject\",\n      \"properties\": {\n        \"dtype\": \"category\",\n        \"num_unique_values\": 3,\n        \"samples\": [\n          \"Commerce\",\n          \"Science\"\n        ],\n        \"semantic_type\": \"\",\n        \"description\": \"\"\n      }\n    },\n    {\n      \"column\": \"degree_percentage\",\n      \"properties\": {\n        \"dtype\": \"number\",\n        \"std\": 7.35874328733944,\n        \"min\": 50.0,\n        \"max\": 91.0,\n        \"num_unique_values\": 89,\n        \"samples\": [\n          71.72,\n          76.0\n        ],\n        \"semantic_type\": \"\",\n        \"description\": \"\"\n      }\n    },\n    {\n      \"column\": \"undergrad_degree\",\n      \"properties\": {\n        \"dtype\": \"category\",\n        \"num_unique_values\": 3,\n        \"samples\": [\n          \"Sci&Tech\",\n          \"Comm&Mgmt\"\n        ],\n        \"semantic_type\": \"\",\n        \"description\": \"\"\n      }\n    },\n    {\n      \"column\": \"work_experience\",\n      \"properties\": {\n        \"dtype\": \"category\",\n        \"num_unique_values\": 2,\n        \"samples\": [\n          \"Yes\",\n          \"No\"\n        ],\n        \"semantic_type\": \"\",\n        \"description\": \"\"\n      }\n    },\n    {\n      \"column\": \"emp_test_percentage\",\n      \"properties\": {\n        \"dtype\": \"number\",\n        \"std\": 13.275956401653833,\n        \"min\": 50.0,\n        \"max\": 98.0,\n        \"num_unique_values\": 100,\n        \"samples\": [\n          93.4,\n          69.0\n        ],\n        \"semantic_type\": \"\",\n        \"description\": \"\"\n      }\n    },\n    {\n      \"column\": \"specialisation\",\n      \"properties\": {\n        \"dtype\": \"category\",\n        \"num_unique_values\": 2,\n        \"samples\": [\n          \"Mkt&Fin\",\n          \"Mkt&HR\"\n        ],\n        \"semantic_type\": \"\",\n        \"description\": \"\"\n      }\n    },\n    {\n      \"column\": \"mba_percent\",\n      \"properties\": {\n        \"dtype\": \"number\",\n        \"std\": 5.833384580683801,\n        \"min\": 51.21,\n        \"max\": 77.89,\n        \"num_unique_values\": 205,\n        \"samples\": [\n          64.66,\n          52.21\n        ],\n        \"semantic_type\": \"\",\n        \"description\": \"\"\n      }\n    },\n    {\n      \"column\": \"status\",\n      \"properties\": {\n        \"dtype\": \"category\",\n        \"num_unique_values\": 2,\n        \"samples\": [\n          \"Not Placed\",\n          \"Placed\"\n        ],\n        \"semantic_type\": \"\",\n        \"description\": \"\"\n      }\n    }\n  ]\n}"
            }
          },
          "metadata": {},
          "execution_count": 11
        }
      ]
    },
    {
      "cell_type": "markdown",
      "source": [
        "### Check for missing values\n",
        "\n",
        "There are no missing values, so no action is required"
      ],
      "metadata": {
        "id": "R1JNI617wTmh"
      },
      "id": "R1JNI617wTmh"
    },
    {
      "cell_type": "code",
      "source": [
        "df1.isnull().sum(axis=1).sum()"
      ],
      "metadata": {
        "colab": {
          "base_uri": "https://localhost:8080/"
        },
        "id": "BpkUcahMwXik",
        "outputId": "3986ff50-8f31-46de-b499-cbdb88464104"
      },
      "id": "BpkUcahMwXik",
      "execution_count": 12,
      "outputs": [
        {
          "output_type": "execute_result",
          "data": {
            "text/plain": [
              "0"
            ]
          },
          "metadata": {},
          "execution_count": 12
        }
      ]
    },
    {
      "cell_type": "markdown",
      "source": [
        "### Encode categorical data\n",
        "\n",
        "In order to be able to use some ml algorithms, we need to have all the columns encoded with numerical values."
      ],
      "metadata": {
        "id": "2OL2IdoEw1Zi"
      },
      "id": "2OL2IdoEw1Zi"
    },
    {
      "cell_type": "code",
      "source": [
        "# Get categorical columns\n",
        "categorical_columns = df1.select_dtypes(include=['object', 'category']).columns.tolist()\n",
        "categorical_columns"
      ],
      "metadata": {
        "colab": {
          "base_uri": "https://localhost:8080/"
        },
        "id": "gxzTarTuxDhC",
        "outputId": "90dac4de-02ca-4f3f-bcbd-9451e634cc34"
      },
      "id": "gxzTarTuxDhC",
      "execution_count": 13,
      "outputs": [
        {
          "output_type": "execute_result",
          "data": {
            "text/plain": [
              "['gender',\n",
              " 'ssc_board',\n",
              " 'hsc_board',\n",
              " 'hsc_subject',\n",
              " 'undergrad_degree',\n",
              " 'work_experience',\n",
              " 'specialisation',\n",
              " 'status']"
            ]
          },
          "metadata": {},
          "execution_count": 13
        }
      ]
    },
    {
      "cell_type": "code",
      "source": [
        "# Get the unique values for each categorical column\n",
        "for column in categorical_columns:\n",
        "  print(f\"{column} unique values: {df1[column].unique()}\")"
      ],
      "metadata": {
        "colab": {
          "base_uri": "https://localhost:8080/"
        },
        "id": "NZwEPOs_xhcL",
        "outputId": "f4cc2ad7-10c9-4745-8885-b0c11d090154"
      },
      "id": "NZwEPOs_xhcL",
      "execution_count": 14,
      "outputs": [
        {
          "output_type": "stream",
          "name": "stdout",
          "text": [
            "gender unique values: ['M' 'F']\n",
            "ssc_board unique values: ['Others' 'Central']\n",
            "hsc_board unique values: ['Others' 'Central']\n",
            "hsc_subject unique values: ['Commerce' 'Science' 'Arts']\n",
            "undergrad_degree unique values: ['Sci&Tech' 'Comm&Mgmt' 'Others']\n",
            "work_experience unique values: ['No' 'Yes']\n",
            "specialisation unique values: ['Mkt&HR' 'Mkt&Fin']\n",
            "status unique values: ['Placed' 'Not Placed']\n"
          ]
        }
      ]
    },
    {
      "cell_type": "markdown",
      "source": [
        "### Binary one-hot encoding\n",
        "\n",
        "We'll convert to binary the categorical columns that only have two possible values:\n",
        "- Gender\n",
        "- ssc_board\n",
        "- hsc_board\n",
        "- work_experience\n",
        "- specialisation\n",
        "- status"
      ],
      "metadata": {
        "id": "mARC1_WYx2NS"
      },
      "id": "mARC1_WYx2NS"
    },
    {
      "cell_type": "code",
      "source": [
        "# Convert to biary\n",
        "FEMALE_LABEL, MALE_LABEL = (0, 1)\n",
        "OTHER_SSC_LABEL, CENTRAL_SSC_LABEL = (0, 1)\n",
        "OTHER_HSC_LABEL, CENTRAL_HSC_LABEL = (0, 1)\n",
        "NO_EXP_LABEL, EXP_LABEL = (0, 1)\n",
        "HR_SPEC_LABEL, MKT_SPEC_LABEL = (0, 1)\n",
        "PLACED_LABEL, NOT_PLACED_LABEL = (0, 1)\n",
        "\n",
        "# Mapping for gender\n",
        "gender_mapping = {'F': FEMALE_LABEL, 'M': MALE_LABEL}\n",
        "df1['gender'] = df1['gender'].replace(gender_mapping)\n",
        "\n",
        "# Mapping for ssc_board\n",
        "ssc_board_mapping = {'Others': OTHER_SSC_LABEL, 'Central': CENTRAL_SSC_LABEL}\n",
        "df1['ssc_board'] = df1['ssc_board'].replace(ssc_board_mapping)\n",
        "\n",
        "# Mapping for hsc_board\n",
        "hsc_board_mapping = {'Others': OTHER_HSC_LABEL, 'Central': CENTRAL_HSC_LABEL}\n",
        "df1['hsc_board'] = df1['hsc_board'].replace(hsc_board_mapping)\n",
        "\n",
        "# Mapping for work_experience\n",
        "work_experience_mapping = {'No': NO_EXP_LABEL, 'Yes': EXP_LABEL}\n",
        "df1['work_experience'] = df1['work_experience'].replace(work_experience_mapping)\n",
        "\n",
        "# Mapping for specialisation\n",
        "specialisation_mapping = {'Mkt&HR': HR_SPEC_LABEL, 'Mkt&Fin': MKT_SPEC_LABEL}\n",
        "df1['specialisation'] = df1['specialisation'].replace(specialisation_mapping)\n",
        "\n",
        "# Mapping for status\n",
        "status_mapping = {'Placed': PLACED_LABEL, 'Not Placed': NOT_PLACED_LABEL}\n",
        "df1['status'] = df1['status'].replace(status_mapping)\n",
        "\n",
        "# Verify the changes\n",
        "print(df1.head())"
      ],
      "metadata": {
        "colab": {
          "base_uri": "https://localhost:8080/"
        },
        "id": "xHwx6QrxyQrm",
        "outputId": "33734786-f943-42db-b315-f8f9fec3d38f"
      },
      "id": "xHwx6QrxyQrm",
      "execution_count": 15,
      "outputs": [
        {
          "output_type": "stream",
          "name": "stdout",
          "text": [
            "   gender  ssc_percentage  ssc_board  hsc_percentage  hsc_board hsc_subject  \\\n",
            "0       1           67.00          0           91.00          0    Commerce   \n",
            "1       1           79.33          1           78.33          0     Science   \n",
            "2       1           65.00          1           68.00          1        Arts   \n",
            "3       1           56.00          1           52.00          1     Science   \n",
            "4       1           85.80          1           73.60          1    Commerce   \n",
            "\n",
            "   degree_percentage undergrad_degree  work_experience  emp_test_percentage  \\\n",
            "0              58.00         Sci&Tech                0                 55.0   \n",
            "1              77.48         Sci&Tech                1                 86.5   \n",
            "2              64.00        Comm&Mgmt                0                 75.0   \n",
            "3              52.00         Sci&Tech                0                 66.0   \n",
            "4              73.30        Comm&Mgmt                0                 96.8   \n",
            "\n",
            "   specialisation  mba_percent  status  \n",
            "0               0        58.80       0  \n",
            "1               1        66.28       0  \n",
            "2               1        57.80       0  \n",
            "3               0        59.43       1  \n",
            "4               1        55.50       0  \n"
          ]
        }
      ]
    },
    {
      "cell_type": "markdown",
      "source": [
        "### Covert hsc_subject and undergrad_degree to numerical\n",
        "\n",
        "Since we have more than two categories with no specific ordering, we'll use one-hot encodign to generate a new binary column for each categories"
      ],
      "metadata": {
        "id": "GaY5bT2RzslD"
      },
      "id": "GaY5bT2RzslD"
    },
    {
      "cell_type": "code",
      "source": [
        "# Perform one-hot encoding for 'hsc_subject' column\n",
        "hsc_subject_dummies = pd.get_dummies(df1['hsc_subject'], prefix='hsc_subject')\n",
        "df1 = pd.concat([df1, hsc_subject_dummies], axis=1)\n",
        "df1.drop('hsc_subject', axis=1, inplace=True)\n",
        "\n",
        "# Perform one-hot encoding for 'undergrad_degree' column\n",
        "undergrad_degree_dummies = pd.get_dummies(df1['undergrad_degree'], prefix='undergrad_degree')\n",
        "df1 = pd.concat([df1, undergrad_degree_dummies], axis=1)\n",
        "df1.drop('undergrad_degree', axis=1, inplace=True)"
      ],
      "metadata": {
        "id": "cMo3Sugi0HMW"
      },
      "id": "cMo3Sugi0HMW",
      "execution_count": 16,
      "outputs": []
    },
    {
      "cell_type": "markdown",
      "source": [
        "### Check all columns are numerical"
      ],
      "metadata": {
        "id": "linFDWc80wDt"
      },
      "id": "linFDWc80wDt"
    },
    {
      "cell_type": "code",
      "source": [
        "df1.info()"
      ],
      "metadata": {
        "colab": {
          "base_uri": "https://localhost:8080/"
        },
        "id": "RURb9-lP0yaD",
        "outputId": "1579548a-0ad5-4001-db9b-4452af400a58"
      },
      "id": "RURb9-lP0yaD",
      "execution_count": 17,
      "outputs": [
        {
          "output_type": "stream",
          "name": "stdout",
          "text": [
            "<class 'pandas.core.frame.DataFrame'>\n",
            "RangeIndex: 215 entries, 0 to 214\n",
            "Data columns (total 17 columns):\n",
            " #   Column                      Non-Null Count  Dtype  \n",
            "---  ------                      --------------  -----  \n",
            " 0   gender                      215 non-null    int64  \n",
            " 1   ssc_percentage              215 non-null    float64\n",
            " 2   ssc_board                   215 non-null    int64  \n",
            " 3   hsc_percentage              215 non-null    float64\n",
            " 4   hsc_board                   215 non-null    int64  \n",
            " 5   degree_percentage           215 non-null    float64\n",
            " 6   work_experience             215 non-null    int64  \n",
            " 7   emp_test_percentage         215 non-null    float64\n",
            " 8   specialisation              215 non-null    int64  \n",
            " 9   mba_percent                 215 non-null    float64\n",
            " 10  status                      215 non-null    int64  \n",
            " 11  hsc_subject_Arts            215 non-null    bool   \n",
            " 12  hsc_subject_Commerce        215 non-null    bool   \n",
            " 13  hsc_subject_Science         215 non-null    bool   \n",
            " 14  undergrad_degree_Comm&Mgmt  215 non-null    bool   \n",
            " 15  undergrad_degree_Others     215 non-null    bool   \n",
            " 16  undergrad_degree_Sci&Tech   215 non-null    bool   \n",
            "dtypes: bool(6), float64(5), int64(6)\n",
            "memory usage: 19.9 KB\n"
          ]
        }
      ]
    },
    {
      "cell_type": "markdown",
      "source": [
        "## BASELINE MODEL (NO DEBIASING)\n"
      ],
      "metadata": {
        "id": "fQkeOeK61DGv"
      },
      "id": "fQkeOeK61DGv"
    },
    {
      "cell_type": "code",
      "source": [
        "def get_naive_dataset(dataset, random_state=4):\n",
        "    data_shuffled = dataset.sample(frac=1, random_state=random_state).reset_index(drop=True)\n",
        "    X = data_shuffled.drop(['status'], axis=1)\n",
        "    y = data_shuffled['status']\n",
        "    x_train, x_test, y_train, y_test = train_test_split(X, y, test_size=0.25, random_state=random_state)\n",
        "    return x_train, x_test, y_train, y_test"
      ],
      "metadata": {
        "id": "D7hWFyJKAi9i"
      },
      "id": "D7hWFyJKAi9i",
      "execution_count": 19,
      "outputs": []
    },
    {
      "cell_type": "code",
      "source": [
        "# For a baseline, we can use a simple model like Logistic Regression\n",
        "model =  LogisticRegression(random_state=0, max_iter=2000)\n",
        "\n",
        "X_train, X_test, y_train, y_test = get_naive_dataset(df1, 11)\n",
        "\n",
        "# fit the model\n",
        "model.fit(X_train, y_train)\n",
        "# evaluate the model\n",
        "y_pred = model.predict(X_test)"
      ],
      "metadata": {
        "id": "KB104N8U2q1l"
      },
      "id": "KB104N8U2q1l",
      "execution_count": 20,
      "outputs": []
    },
    {
      "cell_type": "code",
      "source": [
        "test_df = pd.DataFrame(X_test, columns=df1.drop(columns=['status']).columns)\n",
        "test_df['status'] = y_test\n",
        "test_df['pred'] = y_pred\n",
        "test_df['accurate'] = (test_df['pred'] == test_df['status'])\n",
        "accuracy = test_df['accurate'].mean()\n",
        "accuracy"
      ],
      "metadata": {
        "colab": {
          "base_uri": "https://localhost:8080/"
        },
        "id": "vXqsCwlX7K9w",
        "outputId": "4678c5fc-0d01-4348-d15b-ed739983d6ff"
      },
      "id": "vXqsCwlX7K9w",
      "execution_count": 21,
      "outputs": [
        {
          "output_type": "execute_result",
          "data": {
            "text/plain": [
              "0.8518518518518519"
            ]
          },
          "metadata": {},
          "execution_count": 21
        }
      ]
    },
    {
      "cell_type": "markdown",
      "source": [
        "### Checking for gender bias"
      ],
      "metadata": {
        "id": "wCot0UVQ4CpD"
      },
      "id": "wCot0UVQ4CpD"
    },
    {
      "cell_type": "code",
      "source": [
        "def evaluate_gender_performance(results_df):\n",
        "    \"\"\"\n",
        "    Evaluate gender performance based on the results DataFrame.\n",
        "\n",
        "    Args:\n",
        "    - results_df: DataFrame containing results data.\n",
        "\n",
        "    Returns:\n",
        "    - summaries: Dictionary containing performance summaries.\n",
        "    \"\"\"\n",
        "    summaries = {}\n",
        "\n",
        "    # Overall accuracy\n",
        "    overall_accuracy = results_df['accurate'].mean()\n",
        "    summaries['accuracy_overall'] = overall_accuracy\n",
        "\n",
        "    # Accuracy across gender\n",
        "    for gender, gender_name in [(FEMALE_LABEL, \"Female\"), (MALE_LABEL, \"Male\")]:\n",
        "        rows = results_df[results_df['gender'] == gender]\n",
        "        accuracy_for_gender = rows['accurate'].mean()\n",
        "        summaries['accuracy_' + gender_name] = accuracy_for_gender\n",
        "\n",
        "    # Positive rates\n",
        "    for gender, gender_name in [(FEMALE_LABEL, \"Female\"), (MALE_LABEL, \"Male\")]:\n",
        "        rows = results_df[results_df['gender'] == gender]\n",
        "        positive_rate_for_gender = (rows['pred'] == PLACED_LABEL).mean()\n",
        "        summaries['positive_rate_' + gender_name] = positive_rate_for_gender\n",
        "\n",
        "    # Negative rates\n",
        "    for gender, gender_name in [(FEMALE_LABEL, \"Female\"), (MALE_LABEL, \"Male\")]:\n",
        "        rows = results_df[results_df['gender'] == gender]\n",
        "        negative_rate_for_gender = (rows['pred'] == NOT_PLACED_LABEL).mean()\n",
        "        summaries['negative_rate_' + gender_name] = negative_rate_for_gender\n",
        "\n",
        "    # True positive and True negative rates\n",
        "    for index, (gender, gender_name) in enumerate([(FEMALE_LABEL, \"Female\"), (MALE_LABEL, \"Male\")]):\n",
        "        rows = results_df[results_df['gender'] == gender]\n",
        "        placed = rows[rows['status'] == PLACED_LABEL]\n",
        "        not_placed = rows[rows['status'] == NOT_PLACED_LABEL]\n",
        "        true_positive_rate = placed['accurate'].mean()\n",
        "        true_negative_rate = not_placed['accurate'].mean()\n",
        "        summaries['true_positive_rate_' + gender_name] = true_positive_rate\n",
        "        summaries['true_negative_rate_' + gender_name] = true_negative_rate\n",
        "\n",
        "\n",
        "    return summaries\n",
        "\n",
        "def plot_comparisons_groups(approaches, accuracy_results, title, fignum=1, rotation='horizontal', labels=[\"Male\", \"Female\"]):\n",
        "    \"\"\"\n",
        "    Plot results for 2 groups stacked together\n",
        "    \"\"\"\n",
        "    assert isinstance(accuracy_results, list), \"Accuracy results must be a list\"\n",
        "\n",
        "    indices = list(range(len(approaches)))\n",
        "    colors = ['red', 'blue']\n",
        "    fig, ax = plt.subplots()\n",
        "\n",
        "    for index in indices:\n",
        "        ax.scatter(index, accuracy_results[0][index], c=colors[0], label=labels[0] if labels and index == 0 else None)\n",
        "        ax.scatter(index, accuracy_results[1][index], c=colors[1], label=labels[1] if labels and index == 0 else None)\n",
        "\n",
        "    if labels:\n",
        "        ax.legend()\n",
        "\n",
        "    plt.xticks(indices, approaches, rotation=rotation)\n",
        "    plt.title(title)\n",
        "\n",
        "    plt.show()\n",
        "\n",
        "def plot_model_gender_metrics(_feature, _summaries, _modelNames, _title, rotation='vertical'):\n",
        "    gender_metrics = [[summary[_feature + '_Male'] for summary in _summaries],\n",
        "                      [summary[_feature + '_Female'] for summary in _summaries]\n",
        "                      ]\n",
        "    plot_comparisons_groups(_modelNames, gender_metrics, _title, rotation=rotation)\n",
        "\n",
        "def model_summary(model_name, title, summary):\n",
        "    summaries = []\n",
        "    model_names = []\n",
        "\n",
        "    for key in [\"accuracy\", \"positive_rate\", \"negative_rate\", \"true_positive_rate\", \"true_negative_rate\"]:\n",
        "        new_summary = {\"accuracy_Male\": summary[key + \"_Male\"], \"accuracy_Female\": summary[key + \"_Female\"]}\n",
        "        summaries.append(new_summary)\n",
        "        model_names.append(key)\n",
        "    plot_model_gender_metrics(\"accuracy\", summaries, model_names, model_name)\n"
      ],
      "metadata": {
        "id": "2HzeZqsg1Pky"
      },
      "id": "2HzeZqsg1Pky",
      "execution_count": 22,
      "outputs": []
    },
    {
      "cell_type": "code",
      "source": [
        "original_approach = evaluate_gender_performance(test_df)\n",
        "model_summary(\"LR_no_debias\", \"\", original_approach)"
      ],
      "metadata": {
        "colab": {
          "base_uri": "https://localhost:8080/",
          "height": 570
        },
        "id": "roLnGVat8c1r",
        "outputId": "bc77e457-d789-4b78-83d7-ccf17259571a"
      },
      "id": "roLnGVat8c1r",
      "execution_count": 23,
      "outputs": [
        {
          "output_type": "display_data",
          "data": {
            "text/plain": [
              "<Figure size 640x480 with 1 Axes>"
            ],
            "image/png": "[encoded data removed]"
          },
          "metadata": {}
        }
      ]
    },
    {
      "cell_type": "markdown",
      "source": [
        "From the plot, we can see males have a higher placed rate, both in the points of true_placed_label and in placed_predicted_rate. Likewise, we see a higher not placed rate for females im both true_not_placed_label and in not_placed_predicted_rate.\n",
        "\n",
        "Hence, we can see a predilection of the model of placing males and not placing females."
      ],
      "metadata": {
        "id": "FKEa5edqIqA3"
      },
      "id": "FKEa5edqIqA3"
    },
    {
      "cell_type": "markdown",
      "source": [
        "## APLYING BIAS MITIGATION TECHNIQUES"
      ],
      "metadata": {
        "id": "ElbLtGjyJxH4"
      },
      "id": "ElbLtGjyJxH4"
    },
    {
      "cell_type": "markdown",
      "source": [
        "There are many data-based debiasing techniques which help reduce bias in our model's predictions:\n",
        "- Mitigation through unawareness: removing the columns that may cause bias from the training set (gender in our case).\n",
        "- Mitigation through dataset balancing:\n",
        "  - Get equal number of datapoints per demographic\n",
        "  - Get equal number of datapoints per demographic in each category\n",
        "  - Get equal ratios per demographic\n",
        "- Bias mitigation through data augmentation\n",
        "  - Counterfactual augmentation\n",
        "\n",
        "Since the dataframe we are using is very small, reducing is not a considerable solution. Hence, we will only try mitigation through awareness and data augmentation."
      ],
      "metadata": {
        "id": "wHc3RIIaJz4M"
      },
      "id": "wHc3RIIaJz4M"
    },
    {
      "cell_type": "markdown",
      "source": [
        "### Mitigation thorugh unawareness"
      ],
      "metadata": {
        "id": "hKPiEuyHLZEK"
      },
      "id": "hKPiEuyHLZEK"
    },
    {
      "cell_type": "code",
      "source": [
        "def get_unawareness_dataset(dataset, random_state=4):\n",
        "    x_train, x_test, y_train, y_test = get_naive_dataset(dataset, random_state)\n",
        "    testdata = x_test.copy()\n",
        "    assert \"gender\" in list(testdata.columns), (\"columns: \", list(testdata.columns))\n",
        "\n",
        "    x_train, x_test = [v.drop(['gender'], axis=1) for v in (x_train, x_test)]\n",
        "    return x_train, x_test, y_train, y_test, testdata"
      ],
      "metadata": {
        "id": "MoCEJSTzLi9W"
      },
      "id": "MoCEJSTzLi9W",
      "execution_count": 24,
      "outputs": []
    },
    {
      "cell_type": "code",
      "source": [
        "def evaluate_predictor_performance(predictions, x_test, y_test):\n",
        "    \"\"\"\n",
        "    Returns summary statistics for the predictor's performance\n",
        "\n",
        "    Input:\n",
        "        - predictions: model's predictions on x_test\n",
        "        - x_test: test input\n",
        "        - y_test: test labels\n",
        "\n",
        "    Requires:\n",
        "        - predictor must have been fitted on x_train and y_train from the same dataset\n",
        "\n",
        "    Check method evaluate_gender_performance for more on the produced summary statistics\n",
        "    \"\"\"\n",
        "    testdata = pd.DataFrame(x_test, columns=df1.drop(columns=['status']).columns)\n",
        "    testdata['status'] = y_test\n",
        "    testdata['pred'] = pd.Series(predictions, index=x_test.index)\n",
        "    testdata['accurate'] = (testdata['pred'] == testdata['status'])\n",
        "    return evaluate_gender_performance(testdata)"
      ],
      "metadata": {
        "id": "m_He8yqvO0M5"
      },
      "id": "m_He8yqvO0M5",
      "execution_count": 25,
      "outputs": []
    },
    {
      "cell_type": "code",
      "source": [
        "model = LogisticRegression(random_state=0, max_iter=800)\n",
        "\n",
        "X_train, X_test, y_train, y_test, testdata = get_unawareness_dataset(df1, random_state=10)\n",
        "\n",
        "# fit the model\n",
        "model.fit(X_train, y_train)\n",
        "# evaluate the model\n",
        "y_pred = model.predict(X_test)\n",
        "approach_1 = evaluate_predictor_performance(y_pred, testdata, y_test)\n",
        "model_summary(\"LR, gender unaware\", \"\", approach_1)"
      ],
      "metadata": {
        "colab": {
          "base_uri": "https://localhost:8080/",
          "height": 570
        },
        "id": "w9EKnylZOLYf",
        "outputId": "7bad622c-ebcc-4a54-e630-8f87278b6618"
      },
      "id": "w9EKnylZOLYf",
      "execution_count": 26,
      "outputs": [
        {
          "output_type": "display_data",
          "data": {
            "text/plain": [
              "<Figure size 640x480 with 1 Axes>"
            ],
            "image/png": "[encoded data removed]"
          },
          "metadata": {}
        }
      ]
    },
    {
      "cell_type": "markdown",
      "source": [
        "In this case, we see that this technique wasn't effective to reduce the gender bias in the metrics plotted.\n",
        "\n",
        "This can be due to having some proxy features in the dataset that correlate with the gender attribute that we are dropping."
      ],
      "metadata": {
        "id": "YQ99RmQLUtxU"
      },
      "id": "YQ99RmQLUtxU"
    },
    {
      "cell_type": "markdown",
      "source": [
        "### Mitigation through data augmentation"
      ],
      "metadata": {
        "id": "CJdS8Sg3LeSj"
      },
      "id": "CJdS8Sg3LeSj"
    },
    {
      "cell_type": "code",
      "source": [
        "def add_gender_counterfacts(df):\n",
        "    df_out = df.copy()\n",
        "    df_out['gender'] = df_out['gender'].apply(lambda value: 1-value)\n",
        "    result = pd.concat([df.copy(), df_out])\n",
        "    return result"
      ],
      "metadata": {
        "id": "C55-tUyOLjQX"
      },
      "id": "C55-tUyOLjQX",
      "execution_count": 27,
      "outputs": []
    },
    {
      "cell_type": "code",
      "source": [
        "model = LogisticRegression(random_state=0, max_iter=1000)\n",
        "\n",
        "gender_augmented_df1 = add_gender_counterfacts(df1)\n",
        "X_train, X_test, y_train, y_test = get_naive_dataset(gender_augmented_df1, random_state=10)\n",
        "\n",
        "# fit the model\n",
        "model.fit(X_train, y_train)\n",
        "# evaluate the model\n",
        "y_pred = model.predict(X_test)\n",
        "approach_1 = evaluate_predictor_performance(y_pred, X_test, y_test)\n",
        "model_summary(\"LR, counterfactual augmentation\", \"\", approach_1)"
      ],
      "metadata": {
        "colab": {
          "base_uri": "https://localhost:8080/",
          "height": 570
        },
        "id": "WsZRV1efSU8u",
        "outputId": "65cb547b-b257-4086-a266-5646c14e7f97"
      },
      "id": "WsZRV1efSU8u",
      "execution_count": 28,
      "outputs": [
        {
          "output_type": "display_data",
          "data": {
            "text/plain": [
              "<Figure size 640x480 with 1 Axes>"
            ],
            "image/png": "[encoded data removed]"
          },
          "metadata": {}
        }
      ]
    },
    {
      "cell_type": "markdown",
      "source": [
        "We see that although there are still more placed males than females, we have reduced the distance between the points with respect to the baseline. Hence, the bias has been reduced.\n",
        "\n",
        "Now, with the gender balanced dataset, we can try also dropping the gneder feature to see if we can gian further improvements."
      ],
      "metadata": {
        "id": "Qnds7kkJRwGd"
      },
      "id": "Qnds7kkJRwGd"
    },
    {
      "cell_type": "code",
      "source": [
        "# Blind counterfactual augmentation\n",
        "model = LogisticRegression(random_state=0, max_iter=1000)\n",
        "\n",
        "gender_augmented_df1 = add_gender_counterfacts(df1)\n",
        "X_train, X_test, y_train, y_test, testdata = get_unawareness_dataset(gender_augmented_df1, random_state=10)\n",
        "\n",
        "# fit the model\n",
        "model.fit(X_train, y_train)\n",
        "# evaluate the model\n",
        "y_pred = model.predict(X_test)\n",
        "approach_1 = evaluate_predictor_performance(y_pred, testdata, y_test)\n",
        "model_summary(\"LR, counterfactual augmentation + gender unawereness\", \"\", approach_1)"
      ],
      "metadata": {
        "colab": {
          "base_uri": "https://localhost:8080/",
          "height": 570
        },
        "id": "3yJpVBytqlMU",
        "outputId": "2553a6f9-d926-4b43-a129-f0cc4930ff4c"
      },
      "id": "3yJpVBytqlMU",
      "execution_count": 29,
      "outputs": [
        {
          "output_type": "display_data",
          "data": {
            "text/plain": [
              "<Figure size 640x480 with 1 Axes>"
            ],
            "image/png": "[encoded data removed]"
          },
          "metadata": {}
        }
      ]
    },
    {
      "cell_type": "markdown",
      "source": [
        "Again, we see that dropping the gender column didn't give any improvements."
      ],
      "metadata": {
        "id": "p1vINcHCsIkJ"
      },
      "id": "p1vINcHCsIkJ"
    },
    {
      "cell_type": "markdown",
      "source": [
        "## BIAS MITIGATION THROUGH FAIR MODEL SELECTION"
      ],
      "metadata": {
        "id": "K-nyjE8Qte_8"
      },
      "id": "K-nyjE8Qte_8"
    },
    {
      "cell_type": "markdown",
      "source": [
        "After applying bias mitigation techniques in the dataset, we can now explore different models to have more accurate predictions, while also considering the mitigation of gender bias."
      ],
      "metadata": {
        "id": "0WWo32AJ06FT"
      },
      "id": "0WWo32AJ06FT"
    },
    {
      "cell_type": "code",
      "source": [
        "# Create a list with all the algorithms to try\n",
        "model_pipeline = []\n",
        "model_pipeline.append(KNeighborsClassifier())\n",
        "model_pipeline.append(DecisionTreeClassifier(random_state=0))\n",
        "model_pipeline.append(RandomForestClassifier(random_state=0))\n",
        "model_pipeline.append(GaussianNB())\n",
        "model_pipeline.append(XGBClassifier(objective=\"binary:logistic\", random_state=0))\n",
        "\n",
        "models = ['KNN Classifier','Decision Tree', 'Random Forest', 'Gaussian NB', 'Gradient Boosting']\n",
        "\n",
        "# Separate data in inputs and output\n",
        "X = gender_augmented_df1.drop(columns=['status']).values\n",
        "y = gender_augmented_df1['status'].values\n",
        "\n",
        "# Build CV Object & Model & Scoring\n",
        "n_splits = 5 # default\n",
        "skf = StratifiedKFold(n_splits)\n",
        "scoring='accuracy'\n",
        "\n",
        "# Evaluate each model\n",
        "for idx, model in enumerate(model_pipeline):\n",
        "    scores_skf = cross_validate(model, X, y, scoring=scoring, cv=skf, return_train_score=True)\n",
        "    print(f'{models[idx]} Mean accuracy: ', mean(scores_skf['test_score']))"
      ],
      "metadata": {
        "colab": {
          "base_uri": "https://localhost:8080/"
        },
        "id": "D_NgoqLp04Ay",
        "outputId": "317615fb-4d6a-4975-bd5f-486670950d58"
      },
      "id": "D_NgoqLp04Ay",
      "execution_count": 30,
      "outputs": [
        {
          "output_type": "stream",
          "name": "stdout",
          "text": [
            "KNN Classifier Mean accuracy:  0.8744186046511627\n",
            "Decision Tree Mean accuracy:  0.9953488372093023\n",
            "Random Forest Mean accuracy:  1.0\n",
            "Gaussian NB Mean accuracy:  0.8023255813953488\n",
            "Gradient Boosting Mean accuracy:  1.0\n"
          ]
        }
      ]
    },
    {
      "cell_type": "markdown",
      "source": [
        "The models that gave the best results are Decision Tree, Random Forest and Gradient boosting. Let's see how good they are in terms of bias mitigation."
      ],
      "metadata": {
        "id": "6ejgB-uK2KYU"
      },
      "id": "6ejgB-uK2KYU"
    },
    {
      "cell_type": "markdown",
      "source": [
        "### Decision Tree bias metrics"
      ],
      "metadata": {
        "id": "1RgzT1oY4NtD"
      },
      "id": "1RgzT1oY4NtD"
    },
    {
      "cell_type": "code",
      "source": [
        "model = DecisionTreeClassifier(random_state=0)\n",
        "\n",
        "X_train, X_test, y_train, y_test = get_naive_dataset(gender_augmented_df1, random_state=10)\n",
        "\n",
        "# fit the model\n",
        "model.fit(X_train, y_train)\n",
        "# evaluate the model\n",
        "y_pred = model.predict(X_test)\n",
        "approach_1 = evaluate_predictor_performance(y_pred, X_test, y_test)\n",
        "model_summary(\"Decision Tree\", \"\", approach_1)"
      ],
      "metadata": {
        "colab": {
          "base_uri": "https://localhost:8080/",
          "height": 570
        },
        "id": "D2-4cyMX4M4m",
        "outputId": "bd7a3684-a13d-4352-ee18-06effe01f10f"
      },
      "id": "D2-4cyMX4M4m",
      "execution_count": 31,
      "outputs": [
        {
          "output_type": "display_data",
          "data": {
            "text/plain": [
              "<Figure size 640x480 with 1 Axes>"
            ],
            "image/png": "[encoded data removed]"
          },
          "metadata": {}
        }
      ]
    },
    {
      "cell_type": "markdown",
      "source": [
        "### Random Forest bias metrics"
      ],
      "metadata": {
        "id": "V9xlOpeO2Xdz"
      },
      "id": "V9xlOpeO2Xdz"
    },
    {
      "cell_type": "code",
      "source": [
        "model = RandomForestClassifier(random_state=0)\n",
        "\n",
        "X_train, X_test, y_train, y_test = get_naive_dataset(gender_augmented_df1, random_state=10)\n",
        "\n",
        "# fit the model\n",
        "model.fit(X_train, y_train)\n",
        "# evaluate the model\n",
        "y_pred = model.predict(X_test)\n",
        "approach_1 = evaluate_predictor_performance(y_pred, X_test, y_test)\n",
        "model_summary(\"Random Forest\", \"\", approach_1)"
      ],
      "metadata": {
        "colab": {
          "base_uri": "https://localhost:8080/",
          "height": 570
        },
        "id": "UWbPcp0M2b6D",
        "outputId": "e784f5d9-073c-4592-d357-487075a875b1"
      },
      "id": "UWbPcp0M2b6D",
      "execution_count": 32,
      "outputs": [
        {
          "output_type": "display_data",
          "data": {
            "text/plain": [
              "<Figure size 640x480 with 1 Axes>"
            ],
            "image/png": "[encoded data removed]"
          },
          "metadata": {}
        }
      ]
    },
    {
      "cell_type": "markdown",
      "source": [
        "### Gradient Boost bias metrics"
      ],
      "metadata": {
        "id": "FONMtyS-3-7E"
      },
      "id": "FONMtyS-3-7E"
    },
    {
      "cell_type": "code",
      "source": [
        "model = XGBClassifier(objective=\"binary:logistic\", random_state=0)\n",
        "\n",
        "X_train, X_test, y_train, y_test = get_naive_dataset(gender_augmented_df1, random_state=10)\n",
        "\n",
        "# fit the model\n",
        "model.fit(X_train, y_train)\n",
        "# evaluate the model\n",
        "y_pred = model.predict(X_test)\n",
        "approach_1 = evaluate_predictor_performance(y_pred, X_test, y_test)\n",
        "model_summary(\"Gradient boosting\", \"\", approach_1)"
      ],
      "metadata": {
        "colab": {
          "base_uri": "https://localhost:8080/",
          "height": 570
        },
        "id": "AyrGGXpO4Bla",
        "outputId": "2499a5f2-6485-494c-8f81-4085f4b38131"
      },
      "id": "AyrGGXpO4Bla",
      "execution_count": 33,
      "outputs": [
        {
          "output_type": "display_data",
          "data": {
            "text/plain": [
              "<Figure size 640x480 with 1 Axes>"
            ],
            "image/png": "[encoded data removed]"
          },
          "metadata": {}
        }
      ]
    },
    {
      "cell_type": "markdown",
      "source": [
        "From all the results presented, we can see that the best one is Gradient Boost, yielding a good accuracy metric and effectively mitigating the bias introduced by the gender imbalance observed initially in the dataframe."
      ],
      "metadata": {
        "id": "ZLONMi004dzy"
      },
      "id": "ZLONMi004dzy"
    },
    {
      "cell_type": "markdown",
      "source": [
        "## CONCLUSION"
      ],
      "metadata": {
        "id": "JIwh9tXb4wsz"
      },
      "id": "JIwh9tXb4wsz"
    },
    {
      "cell_type": "markdown",
      "source": [
        "We were able to successfully train an unbiased model with a small dataframe with gender imbalance."
      ],
      "metadata": {
        "id": "NnUYQqp140Dk"
      },
      "id": "NnUYQqp140Dk"
    },
    {
      "cell_type": "markdown",
      "source": [
        "### Basline"
      ],
      "metadata": {
        "id": "b8w9TWVY5CeU"
      },
      "id": "b8w9TWVY5CeU"
    },
    {
      "cell_type": "code",
      "source": [
        "model = LogisticRegression(random_state=0, max_iter=800)\n",
        "\n",
        "X_train, X_test, y_train, y_test = get_naive_dataset(df1, random_state=11)\n",
        "\n",
        "# fit the model\n",
        "model.fit(X_train, y_train)\n",
        "# evaluate the model\n",
        "y_pred = model.predict(X_test)\n",
        "approach_1 = evaluate_predictor_performance(y_pred, X_test, y_test)\n",
        "model_summary(\"Baseline\", \"\", approach_1)"
      ],
      "metadata": {
        "colab": {
          "base_uri": "https://localhost:8080/",
          "height": 570
        },
        "id": "sTvQ1Zr95G12",
        "outputId": "e98dcfde-cf5a-4400-a93b-3f4d75e24e85"
      },
      "id": "sTvQ1Zr95G12",
      "execution_count": 34,
      "outputs": [
        {
          "output_type": "display_data",
          "data": {
            "text/plain": [
              "<Figure size 640x480 with 1 Axes>"
            ],
            "image/png": "[encoded data removed]"
          },
          "metadata": {}
        }
      ]
    },
    {
      "cell_type": "markdown",
      "source": [
        "### Final Model"
      ],
      "metadata": {
        "id": "2n7R6znI5EFt"
      },
      "id": "2n7R6znI5EFt"
    },
    {
      "cell_type": "code",
      "source": [
        "model = XGBClassifier(objective=\"binary:logistic\", random_state=0)\n",
        "\n",
        "X_train, X_test, y_train, y_test = get_naive_dataset(gender_augmented_df1, random_state=10)\n",
        "\n",
        "# fit the model\n",
        "model.fit(X_train, y_train)\n",
        "# evaluate the model\n",
        "y_pred = model.predict(X_test)\n",
        "approach_1 = evaluate_predictor_performance(y_pred, X_test, y_test)\n",
        "model_summary(\"Gradient Boosting, counterfactual augmentation\", \"\", approach_1)"
      ],
      "metadata": {
        "colab": {
          "base_uri": "https://localhost:8080/",
          "height": 570
        },
        "id": "qIeBRCNG5HL9",
        "outputId": "97a800a9-1b16-4f12-fd1b-52759d7ef582"
      },
      "id": "qIeBRCNG5HL9",
      "execution_count": 35,
      "outputs": [
        {
          "output_type": "display_data",
          "data": {
            "text/plain": [
              "<Figure size 640x480 with 1 Axes>"
            ],
            "image/png": "[encoded data removed]"
          },
          "metadata": {}
        }
      ]
    },
    {
      "cell_type": "markdown",
      "source": [
        "Resources:\n",
        "\n",
        "https://www.kaggle.com/datasets/ahsan81/job-placement-dataset?resource=download\n",
        "\n",
        "https://ocw.mit.edu/courses/res-ec-001-exploring-fairness-in-machine-learning-for-international-development-spring-2020/pages/module-four-case-studies/case-study-mitigating-gender-bias/\n",
        "\n",
        "https://github.com/heyaudace/ml-bias-fairness/tree/master\n"
      ],
      "metadata": {
        "id": "QI7b4CCe7fRo"
      },
      "id": "QI7b4CCe7fRo"
    }
  ],
  "metadata": {
    "kernelspec": {
      "display_name": "Python 3",
      "language": "python",
      "name": "python3"
    },
    "language_info": {
      "codemirror_mode": {
        "name": "ipython",
        "version": 3
      },
      "file_extension": ".py",
      "mimetype": "text/x-python",
      "name": "python",
      "nbconvert_exporter": "python",
      "pygments_lexer": "ipython3",
      "version": "3.8.10 (default, Nov 14 2022, 12:59:47) \n[GCC 9.4.0]"
    },
    "vscode": {
      "interpreter": {
        "hash": "916dbcbb3f70747c44a77c7bcd40155683ae19c65e1c03b4aa3499c5328201f1"
      }
    },
    "colab": {
      "provenance": [],
      "toc_visible": true
    }
  },
  "nbformat": 4,
  "nbformat_minor": 5
}